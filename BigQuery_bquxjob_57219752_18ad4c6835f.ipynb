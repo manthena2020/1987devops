{
  "cells": [
    {
      "cell_type": "markdown",
      "metadata": {
        "id": "view-in-github",
        "colab_type": "text"
      },
      "source": [
        "<a href=\"https://colab.research.google.com/github/manthena2020/1987devops/blob/dev1/BigQuery_bquxjob_57219752_18ad4c6835f.ipynb\" target=\"_parent\"><img src=\"https://colab.research.google.com/assets/colab-badge.svg\" alt=\"Open In Colab\"/></a>"
      ]
    },
    {
      "cell_type": "code",
      "execution_count": 29,
      "metadata": {
        "id": "hWK0nJWgKs_8"
      },
      "outputs": [],
      "source": [
        "project_id = \"animated-tracer-399111\""
      ]
    },
    {
      "cell_type": "code",
      "source": [
        "project_id = \"animated-tracer-399111\"\n",
        "import pandas as pd\n",
        "from google.cloud import bigquery\n",
        "\n",
        "# Create a BigQuery client object.\n",
        "client = bigquery.Client(project_id)\n",
        "\n",
        "# Get the table reference.\n",
        "project = \"animated-tracer-399111\"\n",
        "dataset = \"1\"\n",
        "table = \"employee\"\n",
        "\n",
        "# Read the table data as a DataFrame.\n",
        "table_ref = client.dataset(dataset, project=project).table(table)\n",
        "df = client.list_rows(table_ref).to_dataframe()\n",
        "# Print the DataFrame.\n",
        "print(df)"
      ],
      "metadata": {
        "colab": {
          "base_uri": "https://localhost:8080/"
        },
        "id": "8YWiyb-V4LNs",
        "outputId": "920efec1-97c8-42db-aaf8-b2db49845e58"
      },
      "execution_count": 35,
      "outputs": [
        {
          "output_type": "stream",
          "name": "stdout",
          "text": [
            "   int64_field_0 string_field_1  int64_field_2 date_field_3  \\\n",
            "0              2     John Smith              1   1993-02-07   \n",
            "1              5      Rama Saho              1   1994-12-09   \n",
            "2              1   Maria Gloria              2   1994-03-12   \n",
            "3              4    Jakey Smith              2   1990-08-31   \n",
            "4              3        Gal Rao              4   1992-09-11   \n",
            "\n",
            "          timestamp_field_4  \n",
            "0 2023-09-15 11:03:42+00:00  \n",
            "1 2023-09-15 11:03:42+00:00  \n",
            "2 2023-09-15 11:03:42+00:00  \n",
            "3 2023-09-15 11:03:42+00:00  \n",
            "4 2023-09-15 11:03:42+00:00  \n"
          ]
        }
      ]
    },
    {
      "cell_type": "code",
      "source": [
        "import pandas as pd\n",
        "from google.cloud import bigquery\n",
        "\n",
        "# Create a BigQuery client object.\n",
        "client = bigquery.Client(project=project_id)\n",
        "\n",
        "# Get the table reference.\n",
        "project = \"animated-tracer-399111\"\n",
        "dataset = \"1\"\n",
        "table = \"employee\"\n",
        "\n",
        "# Read the table data as a DataFrame.\n",
        "table_ref = client.dataset(dataset, project=project).table(table)\n",
        "df = client.list_rows(table_ref).to_dataframe()\n",
        "\n",
        "# Assign column names\n",
        "df.columns = ['id', 'name', 'dept_id', 'birth', 'last_update']\n",
        "\n",
        "# Print the DataFrame in a table format\n",
        "print(df.to_markdown(index=False))"
      ],
      "metadata": {
        "colab": {
          "base_uri": "https://localhost:8080/"
        },
        "id": "2Yk33yqmPLAG",
        "outputId": "7473dba4-0d9c-4d02-f834-546a04d26e4b"
      },
      "execution_count": 36,
      "outputs": [
        {
          "output_type": "stream",
          "name": "stdout",
          "text": [
            "|   id | name         |   dept_id | birth      | last_update               |\n",
            "|-----:|:-------------|----------:|:-----------|:--------------------------|\n",
            "|    2 | John Smith   |         1 | 1993-02-07 | 2023-09-15 11:03:42+00:00 |\n",
            "|    5 | Rama Saho    |         1 | 1994-12-09 | 2023-09-15 11:03:42+00:00 |\n",
            "|    1 | Maria Gloria |         2 | 1994-03-12 | 2023-09-15 11:03:42+00:00 |\n",
            "|    4 | Jakey Smith  |         2 | 1990-08-31 | 2023-09-15 11:03:42+00:00 |\n",
            "|    3 | Gal Rao      |         4 | 1992-09-11 | 2023-09-15 11:03:42+00:00 |\n"
          ]
        }
      ]
    },
    {
      "cell_type": "code",
      "source": [
        "import pandas as pd\n",
        "from google.cloud import bigquery\n",
        "from google.cloud import storage\n",
        "\n",
        "# Create a BigQuery client object.\n",
        "client = bigquery.Client(project=project_id)\n",
        "\n",
        "# Get the table reference.\n",
        "project = \"animated-tracer-399111\"\n",
        "dataset = \"1\"\n",
        "table = \"employee\"\n",
        "\n",
        "# Read the table data as a DataFrame.\n",
        "table_ref = client.dataset(dataset, project=project).table(table)\n",
        "df = client.list_rows(table_ref).to_dataframe()\n",
        "\n",
        "# Assign column names\n",
        "df.columns = ['id', 'name', 'dept_id', 'birth', 'last_update']\n",
        "\n",
        "# Print the DataFrame in a table format\n",
        "print(df.to_markdown(index=False))\n",
        "\n",
        "csv_data = df.to_csv(index=False)\n",
        "\n",
        "gcs_bucket_name = 'deeksha'\n",
        "gcs_output_folder = 'processed/'  # Name of the folder where you want to store the file\n",
        "gcs_file_name = 'output.csv'  # Name of the output file\n",
        "bucket = storage_client.bucket(gcs_bucket_name)\n",
        "\n",
        "# Define the blob (object) name for your output file including the folder\n",
        "blob_name = f'{gcs_output_folder}{gcs_file_name}'\n",
        "blob = bucket.blob(blob_name)\n",
        "blob.upload_from_string(csv_data, content_type='text/csv')\n",
        "print(f'DataFrame written to GCS bucket in the folder: {gcs_output_folder}{gcs_file_name}')\n",
        "\n"
      ],
      "metadata": {
        "colab": {
          "base_uri": "https://localhost:8080/"
        },
        "id": "_4OI-yk4QjwE",
        "outputId": "95f9d741-facd-431f-aade-1fca9f046b1c"
      },
      "execution_count": 40,
      "outputs": [
        {
          "output_type": "stream",
          "name": "stdout",
          "text": [
            "|   id | name         |   dept_id | birth      | last_update               |\n",
            "|-----:|:-------------|----------:|:-----------|:--------------------------|\n",
            "|    2 | John Smith   |         1 | 1993-02-07 | 2023-09-15 11:03:42+00:00 |\n",
            "|    5 | Rama Saho    |         1 | 1994-12-09 | 2023-09-15 11:03:42+00:00 |\n",
            "|    1 | Maria Gloria |         2 | 1994-03-12 | 2023-09-15 11:03:42+00:00 |\n",
            "|    4 | Jakey Smith  |         2 | 1990-08-31 | 2023-09-15 11:03:42+00:00 |\n",
            "|    3 | Gal Rao      |         4 | 1992-09-11 | 2023-09-15 11:03:42+00:00 |\n",
            "DataFrame written to GCS bucket in the folder: processed/output.csv\n"
          ]
        }
      ]
    }
  ],
  "metadata": {
    "colab": {
      "cell_execution_strategy": "setup",
      "name": "BigQuery bquxjob_57219752_18ad4c6835f",
      "provenance": [],
      "include_colab_link": true
    },
    "kernelspec": {
      "display_name": "Python 3",
      "name": "python3"
    },
    "language_info": {
      "name": "python"
    }
  },
  "nbformat": 4,
  "nbformat_minor": 0
}